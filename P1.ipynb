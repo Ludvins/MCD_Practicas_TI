{
 "cells": [
  {
   "cell_type": "markdown",
   "metadata": {},
   "source": [
    "# Cargar paquetes"
   ]
  },
  {
   "cell_type": "code",
   "execution_count": 115,
   "metadata": {
    "ExecuteTime": {
     "end_time": "2020-10-16T11:01:04.013004Z",
     "start_time": "2020-10-16T11:01:03.928541Z"
    }
   },
   "outputs": [],
   "source": [
    "import pandas as pd\n",
    "import matplotlib.pyplot as plt\n",
    "import math\n",
    "import numpy as np\n",
    "from scipy.signal import find_peaks\n",
    "from sklearn.preprocessing import normalize\n"
   ]
  },
  {
   "cell_type": "markdown",
   "metadata": {},
   "source": [
    "# Leer archivos"
   ]
  },
  {
   "cell_type": "code",
   "execution_count": 2,
   "metadata": {
    "ExecuteTime": {
     "end_time": "2020-10-16T09:51:50.282915Z",
     "start_time": "2020-10-16T09:51:46.360869Z"
    }
   },
   "outputs": [],
   "source": [
    "trozoC = pd.read_csv(\"TrozoC.txt\", names=[\"LP\", \"VD\"], \n",
    "                     delimiter=\"\\t\", skiprows = range(3), \n",
    "                     index_col=False, decimal=\",\")"
   ]
  },
  {
   "cell_type": "code",
   "execution_count": 3,
   "metadata": {
    "ExecuteTime": {
     "end_time": "2020-10-16T09:51:50.288706Z",
     "start_time": "2020-10-16T09:51:50.284488Z"
    }
   },
   "outputs": [
    {
     "data": {
      "text/plain": [
       "'trozoG = pd.read_csv(\"TrozoG.txt\", names=[\"LP\", \"VD\", \"Time\"], \\n                     delimiter=\"\\t\", skiprows = range(3), \\n                     index_col=False, decimal=\",\")'"
      ]
     },
     "execution_count": 3,
     "metadata": {},
     "output_type": "execute_result"
    }
   ],
   "source": [
    "\"\"\"trozoG = pd.read_csv(\"TrozoG.txt\", names=[\"LP\", \"VD\", \"Time\"], \n",
    "                     delimiter=\"\\t\", skiprows = range(3), \n",
    "                     index_col=False, decimal=\",\")\"\"\""
   ]
  },
  {
   "cell_type": "code",
   "execution_count": 4,
   "metadata": {
    "ExecuteTime": {
     "end_time": "2020-10-16T09:51:50.294553Z",
     "start_time": "2020-10-16T09:51:50.289955Z"
    }
   },
   "outputs": [
    {
     "data": {
      "text/plain": [
       "'trozoR = pd.read_csv(\"TrozoR.txt\", names=[\"LP\", \"VD\"], \\n                     delimiter=\"\\t\", skiprows = range(3), \\n                     index_col=False, decimal=\",\")'"
      ]
     },
     "execution_count": 4,
     "metadata": {},
     "output_type": "execute_result"
    }
   ],
   "source": [
    "\"\"\"trozoR = pd.read_csv(\"TrozoR.txt\", names=[\"LP\", \"VD\"], \n",
    "                     delimiter=\"\\t\", skiprows = range(3), \n",
    "                     index_col=False, decimal=\",\")\"\"\""
   ]
  },
  {
   "cell_type": "code",
   "execution_count": 5,
   "metadata": {
    "ExecuteTime": {
     "end_time": "2020-10-16T09:51:50.317346Z",
     "start_time": "2020-10-16T09:51:50.297074Z"
    }
   },
   "outputs": [
    {
     "data": {
      "text/html": [
       "<div>\n",
       "<style scoped>\n",
       "    .dataframe tbody tr th:only-of-type {\n",
       "        vertical-align: middle;\n",
       "    }\n",
       "\n",
       "    .dataframe tbody tr th {\n",
       "        vertical-align: top;\n",
       "    }\n",
       "\n",
       "    .dataframe thead th {\n",
       "        text-align: right;\n",
       "    }\n",
       "</style>\n",
       "<table border=\"1\" class=\"dataframe\">\n",
       "  <thead>\n",
       "    <tr style=\"text-align: right;\">\n",
       "      <th></th>\n",
       "      <th>LP</th>\n",
       "      <th>VD</th>\n",
       "    </tr>\n",
       "  </thead>\n",
       "  <tbody>\n",
       "    <tr>\n",
       "      <th>0</th>\n",
       "      <td>0.004883</td>\n",
       "      <td>0.015259</td>\n",
       "    </tr>\n",
       "    <tr>\n",
       "      <th>1</th>\n",
       "      <td>0.001526</td>\n",
       "      <td>0.024109</td>\n",
       "    </tr>\n",
       "    <tr>\n",
       "      <th>2</th>\n",
       "      <td>-0.010681</td>\n",
       "      <td>0.031128</td>\n",
       "    </tr>\n",
       "    <tr>\n",
       "      <th>3</th>\n",
       "      <td>-0.022278</td>\n",
       "      <td>0.041809</td>\n",
       "    </tr>\n",
       "    <tr>\n",
       "      <th>4</th>\n",
       "      <td>-0.028076</td>\n",
       "      <td>0.045471</td>\n",
       "    </tr>\n",
       "  </tbody>\n",
       "</table>\n",
       "</div>"
      ],
      "text/plain": [
       "         LP        VD\n",
       "0  0.004883  0.015259\n",
       "1  0.001526  0.024109\n",
       "2 -0.010681  0.031128\n",
       "3 -0.022278  0.041809\n",
       "4 -0.028076  0.045471"
      ]
     },
     "execution_count": 5,
     "metadata": {},
     "output_type": "execute_result"
    }
   ],
   "source": [
    "trozoC.head()"
   ]
  },
  {
   "cell_type": "markdown",
   "metadata": {},
   "source": [
    "# Establecer umbral"
   ]
  },
  {
   "cell_type": "code",
   "execution_count": 6,
   "metadata": {
    "ExecuteTime": {
     "end_time": "2020-10-16T09:51:53.287178Z",
     "start_time": "2020-10-16T09:51:50.318976Z"
    }
   },
   "outputs": [
    {
     "name": "stdout",
     "output_type": "stream",
     "text": [
      "LP    0.383358\n",
      "VD    0.196578\n",
      "dtype: float64\n"
     ]
    }
   ],
   "source": [
    "# Estrategia 1: umbral a 1.5 * rango intercuartílico\n",
    "#threshold = (trozoC.quantile(0.75)-trozoC.quantile(0.25))*1.5\n",
    "\n",
    "# Estrategia 2: umbral a media + 2 * desviación típica (donde se concentra ~95% de probabilidad de una normal)\n",
    "threshold = 1.5*(trozoC[trozoC>=0].mean() + 3*trozoC[trozoC>=0].std())\n",
    "print(threshold)"
   ]
  },
  {
   "cell_type": "code",
   "execution_count": 7,
   "metadata": {
    "ExecuteTime": {
     "end_time": "2020-10-16T09:51:53.291683Z",
     "start_time": "2020-10-16T09:51:53.289389Z"
    }
   },
   "outputs": [],
   "source": [
    "def filter_with_threshold(df, threshold):\n",
    "    return (df > threshold).astype(int)"
   ]
  },
  {
   "cell_type": "code",
   "execution_count": 8,
   "metadata": {
    "ExecuteTime": {
     "end_time": "2020-10-16T09:51:53.466942Z",
     "start_time": "2020-10-16T09:51:53.293224Z"
    }
   },
   "outputs": [],
   "source": [
    "trozoC_t = filter_with_threshold(trozoC, threshold)"
   ]
  },
  {
   "cell_type": "markdown",
   "metadata": {},
   "source": [
    "El número de elementos que superan el umbral es:"
   ]
  },
  {
   "cell_type": "code",
   "execution_count": 9,
   "metadata": {
    "ExecuteTime": {
     "end_time": "2020-10-16T09:51:53.519734Z",
     "start_time": "2020-10-16T09:51:53.468249Z"
    }
   },
   "outputs": [
    {
     "data": {
      "text/plain": [
       "LP    125368\n",
       "VD    161245\n",
       "dtype: int64"
      ]
     },
     "execution_count": 9,
     "metadata": {},
     "output_type": "execute_result"
    }
   ],
   "source": [
    "trozoC_t.sum()"
   ]
  },
  {
   "cell_type": "code",
   "execution_count": 10,
   "metadata": {
    "ExecuteTime": {
     "end_time": "2020-10-16T09:51:53.525649Z",
     "start_time": "2020-10-16T09:51:53.520986Z"
    }
   },
   "outputs": [],
   "source": [
    "def compare_signal_and_transformation(df, df_t, threshold):\n",
    "    \"\"\"\n",
    "    Muestra dos señales `df` y `df_t` que tengan las mismas dimensiones.\n",
    "    \"\"\"\n",
    "    cols = df.shape[1] if len(df.shape) > 1 else 1\n",
    "    fig, axs = plt.subplots(1, cols, figsize=(15,5))\n",
    "    # Loop over columns\n",
    "    for index in range(cols):\n",
    "        axs[index].set_title(list(df)[index])\n",
    "        # Get peaks for each column\n",
    "        axs[index].plot(df.iloc[:, index])\n",
    "        axs[index].plot(df_t.iloc[:,index])\n",
    "        axs[index].plot(threshold[index]*np.ones(df.shape[0]))"
   ]
  },
  {
   "cell_type": "markdown",
   "metadata": {},
   "source": [
    "Al aplicar la función sobre la señal original y la transformada (aplicando un escalado) podemos observar qué valores quedan por encima del umbral. Probamos con los primeros 100 valores."
   ]
  },
  {
   "cell_type": "code",
   "execution_count": 11,
   "metadata": {
    "ExecuteTime": {
     "end_time": "2020-10-16T09:51:53.848223Z",
     "start_time": "2020-10-16T09:51:53.528336Z"
    }
   },
   "outputs": [
    {
     "data": {
      "image/png": "[encoded data removed]",
      "text/plain": [
       "<Figure size 1080x360 with 2 Axes>"
      ]
     },
     "metadata": {
      "needs_background": "light"
     },
     "output_type": "display_data"
    }
   ],
   "source": [
    "N=20000\n",
    "compare_signal_and_transformation(trozoC[0:N], trozoC_t[0:N]*trozoC[0:N].max(), threshold)"
   ]
  },
  {
   "cell_type": "markdown",
   "metadata": {},
   "source": [
    "# Calcular picos"
   ]
  },
  {
   "cell_type": "code",
   "execution_count": 12,
   "metadata": {
    "ExecuteTime": {
     "end_time": "2020-10-16T09:51:53.853141Z",
     "start_time": "2020-10-16T09:51:53.849770Z"
    }
   },
   "outputs": [],
   "source": [
    "def get_peaks(df):\n",
    "    \"\"\"\n",
    "    Busca los picos correspondientes a cada columna del dataframe utilizando find_peaks. \n",
    "    Esta se queda con el valor medio de picos consecutivos.\n",
    "    \"\"\"\n",
    "    # Get number of columns\n",
    "    cols = df.shape[1] if len(df.shape) > 1 else 1\n",
    "    # Initialize peaks array\n",
    "    return [find_peaks(df.iloc[: , index])[0] for index in range(cols)]"
   ]
  },
  {
   "cell_type": "markdown",
   "metadata": {},
   "source": [
    "El número total de picos encontrados es:"
   ]
  },
  {
   "cell_type": "code",
   "execution_count": 13,
   "metadata": {
    "ExecuteTime": {
     "end_time": "2020-10-16T09:51:54.042188Z",
     "start_time": "2020-10-16T09:51:53.854654Z"
    }
   },
   "outputs": [
    {
     "name": "stdout",
     "output_type": "stream",
     "text": [
      "31157\n",
      "22338\n"
     ]
    }
   ],
   "source": [
    "peaks = get_peaks(trozoC_t)\n",
    "for i in peaks:\n",
    "    print(len(i))"
   ]
  },
  {
   "cell_type": "markdown",
   "metadata": {},
   "source": [
    "Ejemplo "
   ]
  },
  {
   "cell_type": "code",
   "execution_count": 14,
   "metadata": {
    "ExecuteTime": {
     "end_time": "2020-10-16T09:51:54.050003Z",
     "start_time": "2020-10-16T09:51:54.043917Z"
    }
   },
   "outputs": [],
   "source": [
    "def compare_signal_and_peaks(df, peaks):\n",
    "    \"\"\"\n",
    "    Muestra la señal original junto con los picos considerados.\n",
    "    \"\"\"\n",
    "    cols = df.shape[1] if len(df.shape) > 1 else 1\n",
    "    fig, axs = plt.subplots(1, cols, figsize=(15,5))\n",
    "    # Loop over columns\n",
    "    for index in range(cols):\n",
    "        axs[index].set_title(list(df)[index])\n",
    "        # Get peaks for each column\n",
    "        axs[index].plot(df.iloc[:, index])\n",
    "        axs[index].plot(peaks[index], df.iloc[peaks[index], index], \"o\")"
   ]
  },
  {
   "cell_type": "markdown",
   "metadata": {},
   "source": [
    "Mostramos un ejemplo en los 100 primeros valores."
   ]
  },
  {
   "cell_type": "code",
   "execution_count": 15,
   "metadata": {
    "ExecuteTime": {
     "end_time": "2020-10-16T09:51:54.305005Z",
     "start_time": "2020-10-16T09:51:54.053375Z"
    }
   },
   "outputs": [
    {
     "data": {
      "image/png": "[encoded data removed]",
      "text/plain": [
       "<Figure size 1080x360 with 2 Axes>"
      ]
     },
     "metadata": {
      "needs_background": "light"
     },
     "output_type": "display_data"
    }
   ],
   "source": [
    "compare_signal_and_peaks(trozoC[0:N], get_peaks(trozoC_t[0:N]))"
   ]
  },
  {
   "cell_type": "code",
   "execution_count": 16,
   "metadata": {
    "ExecuteTime": {
     "end_time": "2020-10-16T09:51:54.309877Z",
     "start_time": "2020-10-16T09:51:54.306562Z"
    }
   },
   "outputs": [],
   "source": [
    "def min_distance_between_peaks(peaks):\n",
    "    \"\"\"\n",
    "    Calcula la distancia mínima entre picos.\n",
    "    \"\"\"\n",
    "    dist = [peaks[index + 1] - peaks[index] for index in range(len(peaks)-1)]\n",
    "    return min(dist), dist.index(min(dist))"
   ]
  },
  {
   "cell_type": "code",
   "execution_count": 17,
   "metadata": {
    "ExecuteTime": {
     "end_time": "2020-10-16T09:51:54.490219Z",
     "start_time": "2020-10-16T09:51:54.311549Z"
    }
   },
   "outputs": [
    {
     "name": "stdout",
     "output_type": "stream",
     "text": [
      "Distancia mínima y pico donde se alcanza:  [(23, 3570), (5, 13312)]\n",
      "Ventana seleccionada:  5\n",
      "Posiciones de los picos mas cercanos:  [[2142183, 2142206], [12346213, 12346218]]\n"
     ]
    }
   ],
   "source": [
    "peaks = get_peaks(trozoC_t)\n",
    "min_dist = [min_distance_between_peaks(a) for a in peaks]\n",
    "print(\"Distancia mínima y pico donde se alcanza: \", min_dist)\n",
    "window = min([a[0] for a in min_dist])\n",
    "print(\"Ventana seleccionada: \", window)\n",
    "min_peak_position = [a[1] for a in min_dist]\n",
    "min_peak_position = [[peaks[idx][min_peak_position[idx]], peaks[idx][min_peak_position[idx]+1]] \n",
    "                     for idx in range(len(peaks))]\n",
    "print(\"Posiciones de los picos mas cercanos: \", min_peak_position)"
   ]
  },
  {
   "cell_type": "code",
   "execution_count": 18,
   "metadata": {
    "ExecuteTime": {
     "end_time": "2020-10-16T09:51:54.496302Z",
     "start_time": "2020-10-16T09:51:54.491499Z"
    }
   },
   "outputs": [],
   "source": [
    "def plot_window(df, window, peak_position):\n",
    "    cols = df.shape[1] if len(df.shape) > 1 else 1\n",
    "    fig, axs = plt.subplots(1, cols, figsize=(15,5))\n",
    "    # Loop over columns\n",
    "    for index in range(cols):\n",
    "        axs[index].set_title(list(df)[index])\n",
    "        # Get peaks for each column\n",
    "        axs[index].plot(df.iloc[peak_position[index][0]-50:peak_position[index][1]+50, index])        \n",
    "        axs[index].plot(peak_position[index][0], df.iloc[peak_position[index][0], index], \"o\")\n",
    "        axs[index].plot(peak_position[index][1], df.iloc[peak_position[index][1], index], \"o\")\n",
    "        xlims = [int(np.round(a)) for a in axs[index].get_xlim()]\n",
    "        offset = int(window* np.round(xlims[0]/window)) \n",
    "        axs[index].vlines([ offset + idx for idx in range(0,xlims[1]-xlims[0], window)], *axs[index].get_ylim())\n",
    "        "
   ]
  },
  {
   "cell_type": "markdown",
   "metadata": {},
   "source": [
    "Mostramos la rejilla alrededor de los dos picos mas cercanos de la primera serie temporal"
   ]
  },
  {
   "cell_type": "code",
   "execution_count": 19,
   "metadata": {
    "ExecuteTime": {
     "end_time": "2020-10-16T09:51:54.770981Z",
     "start_time": "2020-10-16T09:51:54.497516Z"
    }
   },
   "outputs": [
    {
     "data": {
      "image/png": "[encoded data removed]",
      "text/plain": [
       "<Figure size 1080x360 with 2 Axes>"
      ]
     },
     "metadata": {
      "needs_background": "light"
     },
     "output_type": "display_data"
    }
   ],
   "source": [
    "plot_window(trozoC, window, min_peak_position)"
   ]
  },
  {
   "cell_type": "code",
   "execution_count": 47,
   "metadata": {
    "ExecuteTime": {
     "end_time": "2020-10-16T09:59:52.207210Z",
     "start_time": "2020-10-16T09:59:52.155546Z"
    }
   },
   "outputs": [],
   "source": [
    "def apply_window(lenght, peaks, window):\n",
    "    \"\"\"\n",
    "    Crea un vector de 0's y 1's representando la existencia de una señal en la \n",
    "    ventana prefijada de una serie temporal.\n",
    "    Argumentos:\n",
    "    - lenght: Longitud de la serie temporal.\n",
    "    - peaks: posicion de las señales en la serie temporal.\n",
    "    - window: tamaño de ventana.\n",
    "    \"\"\"\n",
    "    # Crea vector de 0 con longitud adecuada (el entero inmediato superior a lenght/window). \n",
    "    # Por ejemplo, si la señal es de tamaño 1000 y la ventana 3, el resultado tiene tamaño 334.\n",
    "    aux = np.zeros(math.ceil(lenght/window))\n",
    "    # Toma los indices correspondientes a cada pico tras aplciar la ventana.\n",
    "    # Por ejemplo, si hay un pico en la posición 100 y la ventana es 3, el pico pasaría a estar en la \n",
    "    #   posición 33.\n",
    "    indexes = [math.floor(n/window) for n in peaks]\n",
    "    # Señala los picos.\n",
    "    aux[indexes] = 1\n",
    "    return aux\n",
    "    \n",
    "trozoC_w = np.array([apply_window(trozoC.shape[0], peaks[idx], window) for idx in range(trozoC.shape[1])])"
   ]
  },
  {
   "cell_type": "code",
   "execution_count": 48,
   "metadata": {
    "ExecuteTime": {
     "end_time": "2020-10-16T09:59:53.471850Z",
     "start_time": "2020-10-16T09:59:53.467450Z"
    }
   },
   "outputs": [
    {
     "data": {
      "text/plain": [
       "3969540"
      ]
     },
     "execution_count": 48,
     "metadata": {},
     "output_type": "execute_result"
    }
   ],
   "source": [
    "len(trozoC_w[0])"
   ]
  },
  {
   "cell_type": "code",
   "execution_count": 49,
   "metadata": {
    "ExecuteTime": {
     "end_time": "2020-10-16T09:59:54.840937Z",
     "start_time": "2020-10-16T09:59:54.837434Z"
    }
   },
   "outputs": [
    {
     "data": {
      "text/plain": [
       "array([0., 0., 0., ..., 0., 0., 0.])"
      ]
     },
     "execution_count": 49,
     "metadata": {},
     "output_type": "execute_result"
    }
   ],
   "source": [
    "trozoC_w[1,:]"
   ]
  },
  {
   "cell_type": "markdown",
   "metadata": {},
   "source": [
    "# Cómputo de información mutua"
   ]
  },
  {
   "cell_type": "code",
   "execution_count": 120,
   "metadata": {
    "ExecuteTime": {
     "end_time": "2020-10-16T11:02:18.714891Z",
     "start_time": "2020-10-16T11:02:18.711532Z"
    }
   },
   "outputs": [],
   "source": [
    "def get_states_probabilities(array, bits):\n",
    "    aux = np.array([array[:,i:i+bits] for i in range(array.shape[1]-bits)])\n",
    "\n",
    "    uniquej, countsj = np.unique(aux, axis = 0, return_counts=True)\n",
    "    unique0, counts0 = np.unique(aux[:,0], axis = 0, return_counts=True)\n",
    "    unique1, counts1 = np.unique(aux[:,1], axis = 0, return_counts=True)\n",
    "    \n",
    "    \n",
    "    return uniquej, countsj/np.sum(countsj) ,unique0, counts0/np.sum(counts0), unique1, counts1/np.sum(counts1)"
   ]
  },
  {
   "cell_type": "code",
   "execution_count": 121,
   "metadata": {
    "ExecuteTime": {
     "end_time": "2020-10-16T11:02:19.545094Z",
     "start_time": "2020-10-16T11:02:19.536675Z"
    }
   },
   "outputs": [],
   "source": [
    "def MI(a, b, c):\n",
    "    return np.sum( [ [a[j+2*i] * np.log2(a[j+2*i]/(b[i]*c[j]))  \n",
    "                for i in range(len(b))] for j in range(len(c))])"
   ]
  },
  {
   "cell_type": "code",
   "execution_count": 122,
   "metadata": {
    "ExecuteTime": {
     "end_time": "2020-10-16T11:02:19.758065Z",
     "start_time": "2020-10-16T11:02:19.753645Z"
    }
   },
   "outputs": [],
   "source": [
    "def full_compute(df, bits):\n",
    "    _, probs_j, _, probs_0, _, probs_1 = get_states_probabilities(df, bits)\n",
    "    return(MI(probs_j, probs_0, probs_1))"
   ]
  },
  {
   "cell_type": "code",
   "execution_count": 123,
   "metadata": {
    "ExecuteTime": {
     "end_time": "2020-10-16T11:02:30.163515Z",
     "start_time": "2020-10-16T11:02:19.970759Z"
    }
   },
   "outputs": [
    {
     "data": {
      "text/plain": [
       "5.22331926527872e-05"
      ]
     },
     "execution_count": 123,
     "metadata": {},
     "output_type": "execute_result"
    }
   ],
   "source": [
    "full_compute(trozoC_w, 1)"
   ]
  },
  {
   "cell_type": "code",
   "execution_count": 124,
   "metadata": {
    "ExecuteTime": {
     "end_time": "2020-10-16T11:02:55.469967Z",
     "start_time": "2020-10-16T11:02:39.384248Z"
    }
   },
   "outputs": [
    {
     "data": {
      "text/plain": [
       "0.22027236230868502"
      ]
     },
     "execution_count": 124,
     "metadata": {},
     "output_type": "execute_result"
    }
   ],
   "source": [
    "full_compute(trozoC_w, 2)"
   ]
  },
  {
   "cell_type": "code",
   "execution_count": 125,
   "metadata": {
    "ExecuteTime": {
     "end_time": "2020-10-16T11:03:17.800797Z",
     "start_time": "2020-10-16T11:02:55.471843Z"
    }
   },
   "outputs": [
    {
     "data": {
      "text/plain": [
       "0.585071358912537"
      ]
     },
     "execution_count": 125,
     "metadata": {},
     "output_type": "execute_result"
    }
   ],
   "source": [
    "full_compute(trozoC_w, 3)"
   ]
  },
  {
   "cell_type": "code",
   "execution_count": 126,
   "metadata": {
    "ExecuteTime": {
     "end_time": "2020-10-16T11:03:46.669509Z",
     "start_time": "2020-10-16T11:03:17.802185Z"
    }
   },
   "outputs": [
    {
     "data": {
      "text/plain": [
       "1.1821055647975904"
      ]
     },
     "execution_count": 126,
     "metadata": {},
     "output_type": "execute_result"
    }
   ],
   "source": [
    "full_compute(trozoC_w, 4)"
   ]
  },
  {
   "cell_type": "code",
   "execution_count": null,
   "metadata": {},
   "outputs": [],
   "source": []
  }
 ],
 "metadata": {
  "kernelspec": {
   "display_name": "Python 3",
   "language": "python",
   "name": "python3"
  },
  "language_info": {
   "codemirror_mode": {
    "name": "ipython",
    "version": 3
   },
   "file_extension": ".py",
   "mimetype": "text/x-python",
   "name": "python",
   "nbconvert_exporter": "python",
   "pygments_lexer": "ipython3",
   "version": "3.8.5"
  },
  "latex_envs": {
   "LaTeX_envs_menu_present": true,
   "autoclose": false,
   "autocomplete": true,
   "bibliofile": "biblio.bib",
   "cite_by": "apalike",
   "current_citInitial": 1,
   "eqLabelWithNumbers": true,
   "eqNumInitial": 1,
   "hotkeys": {
    "equation": "Ctrl-E",
    "itemize": "Ctrl-I"
   },
   "labels_anchors": false,
   "latex_user_defs": false,
   "report_style_numbering": false,
   "user_envs_cfg": false
  },
  "toc": {
   "base_numbering": 1,
   "nav_menu": {},
   "number_sections": true,
   "sideBar": true,
   "skip_h1_title": false,
   "title_cell": "Table of Contents",
   "title_sidebar": "Contents",
   "toc_cell": false,
   "toc_position": {},
   "toc_section_display": true,
   "toc_window_display": true
  }
 },
 "nbformat": 4,
 "nbformat_minor": 4
}
