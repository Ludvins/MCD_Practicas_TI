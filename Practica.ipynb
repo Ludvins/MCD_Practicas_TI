{
 "cells": [
  {
   "cell_type": "markdown",
   "metadata": {},
   "source": [
    "# Imports"
   ]
  },
  {
   "cell_type": "code",
   "execution_count": 78,
   "metadata": {
    "ExecuteTime": {
     "end_time": "2020-09-29T15:17:41.219881Z",
     "start_time": "2020-09-29T15:17:41.216791Z"
    }
   },
   "outputs": [],
   "source": [
    "import pandas as pd\n",
    "import matplotlib.pyplot as plt\n",
    "import numpy as np\n",
    "from scipy.signal import find_peaks"
   ]
  },
  {
   "cell_type": "markdown",
   "metadata": {},
   "source": [
    "# Read files"
   ]
  },
  {
   "cell_type": "code",
   "execution_count": 44,
   "metadata": {
    "ExecuteTime": {
     "end_time": "2020-09-28T17:57:23.449221Z",
     "start_time": "2020-09-28T17:57:18.085198Z"
    }
   },
   "outputs": [],
   "source": [
    "trozoC = pd.read_csv(\"TrozoC.txt\", names=[\"LP\", \"VD\"], \n",
    "                     delimiter=\"\\t\", skiprows = range(3), \n",
    "                     index_col=False, decimal=\",\")"
   ]
  },
  {
   "cell_type": "code",
   "execution_count": 3,
   "metadata": {
    "ExecuteTime": {
     "end_time": "2020-09-28T17:14:07.691387Z",
     "start_time": "2020-09-28T17:14:02.833829Z"
    }
   },
   "outputs": [],
   "source": [
    "trozoG = pd.read_csv(\"TrozoG.txt\", names=[\"LP\", \"VD\", \"Time\"], \n",
    "                     delimiter=\"\\t\", skiprows = range(3), \n",
    "                     index_col=False, decimal=\",\")"
   ]
  },
  {
   "cell_type": "code",
   "execution_count": 4,
   "metadata": {
    "ExecuteTime": {
     "end_time": "2020-09-28T17:14:11.413164Z",
     "start_time": "2020-09-28T17:14:07.692711Z"
    }
   },
   "outputs": [],
   "source": [
    "trozoR = pd.read_csv(\"TrozoR.txt\", names=[\"LP\", \"VD\"], \n",
    "                     delimiter=\"\\t\", skiprows = range(3), \n",
    "                     index_col=False, decimal=\",\")"
   ]
  },
  {
   "cell_type": "code",
   "execution_count": 5,
   "metadata": {
    "ExecuteTime": {
     "end_time": "2020-09-28T17:14:11.437442Z",
     "start_time": "2020-09-28T17:14:11.414414Z"
    }
   },
   "outputs": [
    {
     "data": {
      "text/html": [
       "<div>\n",
       "<style scoped>\n",
       "    .dataframe tbody tr th:only-of-type {\n",
       "        vertical-align: middle;\n",
       "    }\n",
       "\n",
       "    .dataframe tbody tr th {\n",
       "        vertical-align: top;\n",
       "    }\n",
       "\n",
       "    .dataframe thead th {\n",
       "        text-align: right;\n",
       "    }\n",
       "</style>\n",
       "<table border=\"1\" class=\"dataframe\">\n",
       "  <thead>\n",
       "    <tr style=\"text-align: right;\">\n",
       "      <th></th>\n",
       "      <th>LP</th>\n",
       "      <th>VD</th>\n",
       "    </tr>\n",
       "  </thead>\n",
       "  <tbody>\n",
       "    <tr>\n",
       "      <th>0</th>\n",
       "      <td>0.004883</td>\n",
       "      <td>0.015259</td>\n",
       "    </tr>\n",
       "    <tr>\n",
       "      <th>1</th>\n",
       "      <td>0.001526</td>\n",
       "      <td>0.024109</td>\n",
       "    </tr>\n",
       "    <tr>\n",
       "      <th>2</th>\n",
       "      <td>-0.010681</td>\n",
       "      <td>0.031128</td>\n",
       "    </tr>\n",
       "    <tr>\n",
       "      <th>3</th>\n",
       "      <td>-0.022278</td>\n",
       "      <td>0.041809</td>\n",
       "    </tr>\n",
       "    <tr>\n",
       "      <th>4</th>\n",
       "      <td>-0.028076</td>\n",
       "      <td>0.045471</td>\n",
       "    </tr>\n",
       "  </tbody>\n",
       "</table>\n",
       "</div>"
      ],
      "text/plain": [
       "         LP        VD\n",
       "0  0.004883  0.015259\n",
       "1  0.001526  0.024109\n",
       "2 -0.010681  0.031128\n",
       "3 -0.022278  0.041809\n",
       "4 -0.028076  0.045471"
      ]
     },
     "execution_count": 5,
     "metadata": {},
     "output_type": "execute_result"
    }
   ],
   "source": [
    "trozoC.head()"
   ]
  },
  {
   "cell_type": "markdown",
   "metadata": {},
   "source": [
    "# Establecer umbral"
   ]
  },
  {
   "cell_type": "code",
   "execution_count": 45,
   "metadata": {
    "ExecuteTime": {
     "end_time": "2020-09-28T17:57:26.830162Z",
     "start_time": "2020-09-28T17:57:23.451373Z"
    }
   },
   "outputs": [],
   "source": [
    "umbral = (trozoC.quantile(0.75)-trozoC.quantile(0.25))*1.5\n",
    "#umbral = trozoC[trozoC>=0].mean() + 2*trozoC[trozoC>=0].std()"
   ]
  },
  {
   "cell_type": "code",
   "execution_count": 50,
   "metadata": {
    "ExecuteTime": {
     "end_time": "2020-09-28T17:57:45.112594Z",
     "start_time": "2020-09-28T17:57:45.108769Z"
    }
   },
   "outputs": [],
   "source": [
    "def filter_with_threshold(df, threshold):\n",
    "    return (df > threshold).astype(int)"
   ]
  },
  {
   "cell_type": "code",
   "execution_count": 51,
   "metadata": {
    "ExecuteTime": {
     "end_time": "2020-09-28T17:57:45.821228Z",
     "start_time": "2020-09-28T17:57:45.286890Z"
    }
   },
   "outputs": [],
   "source": [
    "trozoC = filter_with_threshold(trozoC, umbral)"
   ]
  },
  {
   "cell_type": "markdown",
   "metadata": {},
   "source": [
    "El número de elementos que superan el umbral es:"
   ]
  },
  {
   "cell_type": "code",
   "execution_count": 53,
   "metadata": {
    "ExecuteTime": {
     "end_time": "2020-09-28T17:57:47.280926Z",
     "start_time": "2020-09-28T17:57:47.230846Z"
    }
   },
   "outputs": [
    {
     "data": {
      "text/plain": [
       "LP     1937513\n",
       "VD    15451427\n",
       "dtype: int64"
      ]
     },
     "execution_count": 53,
     "metadata": {},
     "output_type": "execute_result"
    }
   ],
   "source": [
    "trozoC.sum()"
   ]
  },
  {
   "cell_type": "markdown",
   "metadata": {},
   "source": [
    "# Agrupar picos"
   ]
  },
  {
   "cell_type": "code",
   "execution_count": 106,
   "metadata": {
    "ExecuteTime": {
     "end_time": "2020-09-29T15:24:59.942746Z",
     "start_time": "2020-09-29T15:24:59.938997Z"
    }
   },
   "outputs": [],
   "source": [
    "def get_spikes(df):\n",
    "    \"\"\"\n",
    "    Busca los picos correspondientes a cada columna del dataframe utilizando find_peaks.\n",
    "    \"\"\"\n",
    "    # Get number of columns\n",
    "    cols = df.shape[1] if len(df.shape) > 1 else 1\n",
    "    # Initialize peaks array\n",
    "    peaks = [None]*cols\n",
    "    # Loop over columns\n",
    "    for index in range(cols):\n",
    "        # Get peaks for each column\n",
    "        peaks[index], _ = find_peaks(df.iloc[: , index])\n",
    "        \n",
    "    return peaks"
   ]
  },
  {
   "cell_type": "markdown",
   "metadata": {},
   "source": [
    "El número total de picos encontrados es:"
   ]
  },
  {
   "cell_type": "code",
   "execution_count": 155,
   "metadata": {
    "ExecuteTime": {
     "end_time": "2020-09-29T15:43:53.366285Z",
     "start_time": "2020-09-29T15:43:53.206365Z"
    }
   },
   "outputs": [
    {
     "name": "stdout",
     "output_type": "stream",
     "text": [
      "302460\n",
      "956230\n"
     ]
    }
   ],
   "source": [
    "peaks = get_spikes(trozoC)\n",
    "for i in peaks:\n",
    "    print(len(i))"
   ]
  },
  {
   "cell_type": "markdown",
   "metadata": {},
   "source": [
    "Ejemplo "
   ]
  },
  {
   "cell_type": "code",
   "execution_count": 147,
   "metadata": {
    "ExecuteTime": {
     "end_time": "2020-09-29T15:37:53.853508Z",
     "start_time": "2020-09-29T15:37:53.847109Z"
    }
   },
   "outputs": [],
   "source": [
    "def plot_spikes(df, spikes):\n",
    "    \"\"\"\n",
    "        Muestra los pucos junto con la serie\n",
    "    \"\"\"\n",
    "    cols = df.shape[1] if len(df.shape) > 1 else 1\n",
    "    fig, axs = plt.subplots(1, cols, figsize=(15,5))\n",
    "    # Loop over columns\n",
    "    for index in range(cols):\n",
    "        # Get peaks for each column\n",
    "        axs[index].plot(df.iloc[:, index])\n",
    "        axs[index].plot(spikes[index], np.ones(len(spikes[index])), \"x\")"
   ]
  },
  {
   "cell_type": "code",
   "execution_count": 148,
   "metadata": {
    "ExecuteTime": {
     "end_time": "2020-09-29T15:37:54.273630Z",
     "start_time": "2020-09-29T15:37:54.058069Z"
    }
   },
   "outputs": [
    {
     "data": {
      "image/png": "[encoded data removed]",
      "text/plain": [
       "<Figure size 1080x360 with 2 Axes>"
      ]
     },
     "metadata": {
      "needs_background": "light"
     },
     "output_type": "display_data"
    }
   ],
   "source": [
    "aux = trozoC[0:100]\n",
    "spikes = get_spikes(aux)\n",
    "plot_spikes(aux, spikes)"
   ]
  },
  {
   "cell_type": "code",
   "execution_count": null,
   "metadata": {},
   "outputs": [],
   "source": []
  }
 ],
 "metadata": {
  "kernelspec": {
   "display_name": "Python 3",
   "language": "python",
   "name": "python3"
  },
  "language_info": {
   "codemirror_mode": {
    "name": "ipython",
    "version": 3
   },
   "file_extension": ".py",
   "mimetype": "text/x-python",
   "name": "python",
   "nbconvert_exporter": "python",
   "pygments_lexer": "ipython3",
   "version": "3.8.5"
  },
  "latex_envs": {
   "LaTeX_envs_menu_present": true,
   "autoclose": false,
   "autocomplete": true,
   "bibliofile": "biblio.bib",
   "cite_by": "apalike",
   "current_citInitial": 1,
   "eqLabelWithNumbers": true,
   "eqNumInitial": 1,
   "hotkeys": {
    "equation": "Ctrl-E",
    "itemize": "Ctrl-I"
   },
   "labels_anchors": false,
   "latex_user_defs": false,
   "report_style_numbering": false,
   "user_envs_cfg": false
  },
  "toc": {
   "base_numbering": 1,
   "nav_menu": {},
   "number_sections": true,
   "sideBar": true,
   "skip_h1_title": false,
   "title_cell": "Table of Contents",
   "title_sidebar": "Contents",
   "toc_cell": false,
   "toc_position": {},
   "toc_section_display": true,
   "toc_window_display": true
  }
 },
 "nbformat": 4,
 "nbformat_minor": 4
}
